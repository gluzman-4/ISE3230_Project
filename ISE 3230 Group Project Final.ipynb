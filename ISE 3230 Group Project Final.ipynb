{
 "cells": [
  {
   "cell_type": "code",
   "execution_count": 1,
   "id": "90c75268-5260-4969-803c-dc593e862886",
   "metadata": {},
   "outputs": [],
   "source": [
    "import json\n",
    "import geopy.distance\n",
    "import numpy as np\n",
    "import itertools\n",
    "from itertools import chain\n",
    "from itertools import combinations\n",
    "import gurobipy as gp\n",
    "from gurobipy import GRB\n",
    "import folium\n",
    "import random\n",
    "import math"
   ]
  },
  {
   "cell_type": "markdown",
   "id": "27b902f7-e5cd-4668-b800-4d35860c208a",
   "metadata": {},
   "source": [
    "# Part I: Megan's First Day Driving Uber Eats"
   ]
  },
  {
   "cell_type": "markdown",
   "id": "47f46acf-9998-4ee2-8113-08562f0b1c92",
   "metadata": {},
   "source": [
    "### Functions to get data in correct form for model: "
   ]
  },
  {
   "cell_type": "code",
   "execution_count": 2,
   "id": "551c6a4e-ec3f-4053-818b-8929c26ed68b",
   "metadata": {},
   "outputs": [],
   "source": [
    "#### Function: Powerset ####\n",
    "## Input: any list \n",
    "## Return: all possible subsets of list\n",
    "def powerset(iterable):\n",
    "    s = list(iterable)\n",
    "    return chain.from_iterable(combinations(s, r) for r in range(len(s)+1))\n",
    "\n",
    "\n",
    "#### Function: findsubsetsL2 ####\n",
    "## Input: any list\n",
    "## Return: All subsets of size two\n",
    "def findsubsetsL2(s):\n",
    "    return list(itertools.permutations(s, 2))"
   ]
  },
  {
   "cell_type": "code",
   "execution_count": 3,
   "id": "a16f72f3-ed00-4d97-ae08-3c643ced2456",
   "metadata": {},
   "outputs": [],
   "source": [
    "#### Function: createPickups ####\n",
    "## Input: number of orders picked up\n",
    "## Return: indicies i to n (indicating pickups)\n",
    "def createPickups(n):\n",
    "    return [item for item in range(1, n+1)]\n",
    "#### Function: createDropoffs ####\n",
    "## Input: number of orders picked up\n",
    "## Return: indicies n+1 to 2n\n",
    "def createDropoffs(n):\n",
    "    return [item for item in range(n+1, 2*n+1)]"
   ]
  },
  {
   "cell_type": "code",
   "execution_count": 4,
   "id": "e0c249b5-67dd-4dd1-9d89-0c56839f64c6",
   "metadata": {},
   "outputs": [],
   "source": [
    "#### Function: findLocations ####\n",
    "## Input: name of json data file\n",
    "## Return: list of delivery location names \n",
    "def findLocations(json):\n",
    "    locations = []\n",
    "    for i in json:\n",
    "        location = json[i]['name']\n",
    "        locations.append(location)\n",
    "    return(locations)\n",
    " \n",
    "#### Function: findCoord ####\n",
    "## Input: name of json data file\n",
    "## Return: list of coordinate pairs of delivery locations\n",
    "def findCoord(json):\n",
    "    coordinates = {}\n",
    "    for i in json:\n",
    "        coordinates[i] = (float(json[i]['lat']), float(json[i]['long']))\n",
    "    return(coordinates)  "
   ]
  },
  {
   "cell_type": "code",
   "execution_count": 5,
   "id": "b99dd834-2fad-4ebe-9a6c-fd18c7bd6b5d",
   "metadata": {},
   "outputs": [],
   "source": [
    "#### Function: Edges ###\n",
    "## Inputs: list of 0, 1-2n, and 2n+1 (V)\n",
    "## Return: list of possible edges in route\n",
    "def edges(V,P):\n",
    "    E = list(findsubsetsL2(V))\n",
    "    for index, tup in enumerate(E.copy()):\n",
    "        x = tup[0]\n",
    "        y = tup[1]\n",
    "        if x >= y and tup in E:\n",
    "            E.remove(tup)\n",
    "        else:\n",
    "            for p in P:\n",
    "                if (x == 0 and y == n+p) and tup in E:\n",
    "                    E.remove(tup)\n",
    "                elif (x == p and y == (2*n) + 1) and tup in E:\n",
    "                    E.remove(tup)\n",
    "    return(E)"
   ]
  },
  {
   "cell_type": "code",
   "execution_count": 6,
   "id": "d5261672-e6f4-43f0-a547-2ad4477497db",
   "metadata": {},
   "outputs": [],
   "source": [
    "#### Function: Distance ####\n",
    "## Input: name of location 1 and location 2 \n",
    "## Return: Distances between each of the locations\n",
    "def distance(city1, city2):\n",
    "    c1 = coordinates[city1]\n",
    "    c2 = coordinates[city2]\n",
    "    return(geopy.distance.geodesic(c1, c2).miles)\n",
    "\n",
    "### Function: distMatrix ####\n",
    "## Input: distances between each location\n",
    "## Return: 2n+2 x 2n+2 matrix of distances between each location\n",
    "def distMatrix(locations):\n",
    "    dist = [distance(c1, c2) for c1, c2 in itertools.product(locations, repeat=2)]\n",
    "    c = np.reshape(dist, (2*n+2, 2*n+2)) # Create distance matrix\n",
    "    return(c)"
   ]
  },
  {
   "cell_type": "markdown",
   "id": "bc79cb8a-94b9-4c77-a5bd-9be18246974a",
   "metadata": {},
   "source": [
    "### Model Inputs: "
   ]
  },
  {
   "cell_type": "code",
   "execution_count": 7,
   "id": "a23d5d7e-160c-42ad-a725-9852cb3a374b",
   "metadata": {},
   "outputs": [],
   "source": [
    "# Select Data File\n",
    "ubereats_json = json.load(open('UberEats Data 7.json'))\n",
    "\n",
    "# Number of orders in file \n",
    "n = 7"
   ]
  },
  {
   "cell_type": "code",
   "execution_count": 8,
   "id": "c2dec15e-9880-4d10-8c52-99afc66dd1a6",
   "metadata": {},
   "outputs": [],
   "source": [
    "P = createPickups(n) # Indexes for pickups\n",
    "D = createDropoffs(n)# Indexes for dropoffs\n",
    "\n",
    "# Combine pickups and drop offs with first and last location\n",
    "V = [0] + P + D + [2*n+1]\n",
    "E = edges(V,P)\n",
    "\n",
    "# All subsets in V\n",
    "S = list(powerset(V))\n",
    "\n",
    "# Generate location list\n",
    "locations = findLocations(ubereats_json)\n",
    "coordinates = findCoord(ubereats_json)\n",
    "\n",
    "# Create Distance Matrix\n",
    "c = distMatrix(locations)"
   ]
  },
  {
   "cell_type": "markdown",
   "id": "3de07fdf-f388-4c60-b9ce-86f40dad595f",
   "metadata": {},
   "source": [
    "### Constraints:"
   ]
  },
  {
   "cell_type": "code",
   "execution_count": 9,
   "id": "710d7876-f13a-4b54-8a12-87a79b2ce702",
   "metadata": {},
   "outputs": [],
   "source": [
    "#### Function: Delta ####\n",
    "## Description: {(i, j) ∈ E : i ∈ S, j not ∈ S or \n",
    "## i not ∈ S, j ∈ S} for any set of vertices S ⊆ V\n",
    "## Input: A subset of V\n",
    "## Return: List of qualified coordinate pairs \n",
    "def delta(S,E):\n",
    "    Stemp = []\n",
    "    if not isinstance(S, int):\n",
    "        for index, tup in enumerate(E):\n",
    "            i = tup[0]\n",
    "            j = tup[1]\n",
    "            if (i in S and j not in S) or (i not in S and j in S):\n",
    "                Stemp.append(E[index])\n",
    "            \n",
    "    else: #S is an int\n",
    "        for index, tup in enumerate(E):\n",
    "            i = tup[0]\n",
    "            j = tup[1]\n",
    "            if i == S or j == S:\n",
    "                Stemp.append(E[index])\n",
    "    return(Stemp)"
   ]
  },
  {
   "cell_type": "code",
   "execution_count": 10,
   "id": "0d54c390-9dff-4059-bcbd-3d90780c17f7",
   "metadata": {},
   "outputs": [],
   "source": [
    "#### Function: mu ####\n",
    "## Description: U is the collection of subsets S⊂V satisfying\n",
    "# 3≤|S|≤|V|−2 with 0 ∈ S, 2n + 1 not ∈ S and for which there\n",
    "# exists i ∈ P such that i not ∈ S and n + i ∈ S. \n",
    "## Input: S- subsets of V, V- list of indicies 0 to 2n+1\n",
    "## Return: U- qualifiying subsets of listed conditions\n",
    "def mu(S,V):\n",
    "    # Orders must be picked up before delivery constraint\n",
    "    U =[] # the collection of subsets S⊂V satisfying 3≤|S|≤|V|−2 with 0∈S, 2n + 1 not ∈ S \n",
    "    for i in range(len(S)):\n",
    "        if len(S[i]) >= 3 and len(S[i]) <= len(V) - 2 and 0 in S[i] and not (2*n+1) in S[i]:\n",
    "            U.append(S[i])\n",
    "        \n",
    "    # and for which there exists i ∈ P such that i not ∈ S and n + i ∈ S\n",
    "    U_temp = []\n",
    "    for u in range(len(U)):\n",
    "        for i in range(len(P)):\n",
    "            if not P[i] in U[u] and n+P[i] in U[u]:\n",
    "                U_temp.append(U[u])\n",
    "    U = U_temp\n",
    "    return(U)"
   ]
  },
  {
   "cell_type": "code",
   "execution_count": 11,
   "id": "d7e8c667-bac0-4b82-b134-09ff1360a429",
   "metadata": {},
   "outputs": [],
   "source": [
    "#### Function: constraint1 #### \n",
    "## Description: Starting location must be revisted \n",
    "## Input: number of orders ##\n",
    "def constraint1(n):\n",
    "    m.addConstr(x[0,2*n+1] == 1)"
   ]
  },
  {
   "cell_type": "code",
   "execution_count": 12,
   "id": "7f55b307-ba80-4cbc-a5c1-f8050251aa43",
   "metadata": {},
   "outputs": [],
   "source": [
    "#### Function: constraint2 ####\n",
    "## Description: Each location must be visited only once\n",
    "# Input: list of location indicies 0 to 2n+1\n",
    "def constraint2(V,E):\n",
    "    for i in V:\n",
    "        d = delta(i,E)\n",
    "        m.addConstr(sum(x[d[di][0], d[di][1]] for di in range(len(d))) == 2)"
   ]
  },
  {
   "cell_type": "code",
   "execution_count": 13,
   "id": "32c03d0f-5ff3-489d-b4b5-d8a36e38f974",
   "metadata": {},
   "outputs": [],
   "source": [
    "#### Function: constraint3 ####\n",
    "## Description: Subtours are eliminates when subsets of V that are in\n",
    "## delta(S) have length at least 3, length less than or equal to length of V/2, and \n",
    "## the edges in this set visited are greater than or equal to 2 in every qualifying subset\n",
    "## Input: S- from delta(S) function, V- indices of pickups, deliveries, 0, and 2n+1\n",
    "def constraint3(S,V,E):\n",
    "    for i in range(len(S)):\n",
    "        if len(S[i]) >=3 and len(S[i]) <= len(V)/2:\n",
    "            constr = delta(S[i],E)\n",
    "            m.addConstr(sum(x[constr[si][0], constr[si][1]] for si in range(len(constr))) >= 2)      "
   ]
  },
  {
   "cell_type": "code",
   "execution_count": 14,
   "id": "1f8dcc79-50de-49d6-b85f-e3289da5d6d7",
   "metadata": {},
   "outputs": [],
   "source": [
    "#### Function: constraint4 ####\n",
    "## Description: Ensures pickups are picked up before they are delivered\n",
    "## by ensuring subsets of edges in mu that are >= 3 in length and less than \n",
    "## length of V-2 each have at least 4 visited edges\n",
    "## Input: S- subsets of V, V- indexes 0 to 2n+1\n",
    "def constraint4(S,V,E):\n",
    "    U = mu(S,V)\n",
    "    for u in range(len(U)):\n",
    "        U_constr = delta(U[u],E)\n",
    "        m.addConstr(sum(x[U_constr[si][0], U_constr[si][1]] for si in range(len(U_constr))) >= 4)"
   ]
  },
  {
   "cell_type": "markdown",
   "id": "6eb24e8b-6282-43c6-9441-e1e851e66695",
   "metadata": {},
   "source": [
    "### Optimization Model:"
   ]
  },
  {
   "cell_type": "code",
   "execution_count": 15,
   "id": "abe67168-a203-4d57-b24e-88742a2b9892",
   "metadata": {},
   "outputs": [
    {
     "name": "stdout",
     "output_type": "stream",
     "text": [
      "Set parameter Username\n",
      "Academic license - for non-commercial use only - expires 2023-08-25\n",
      "Gurobi Optimizer version 9.5.2 build v9.5.2rc0 (mac64[rosetta2])\n",
      "Thread count: 8 physical cores, 8 logical processors, using up to 8 threads\n",
      "Optimize a model with 67748 rows, 256 columns and 3674335 nonzeros\n",
      "Model fingerprint: 0x1397826e\n",
      "Variable types: 0 continuous, 256 integer (256 binary)\n",
      "Coefficient statistics:\n",
      "  Matrix range     [1e+00, 1e+00]\n",
      "  Objective range  [3e-01, 1e+01]\n",
      "  Bounds range     [1e+00, 1e+00]\n",
      "  RHS range        [1e+00, 4e+00]\n",
      "Presolve removed 35094 rows and 151 columns\n",
      "Presolve time: 2.49s\n",
      "Presolved: 32654 rows, 105 columns, 1717527 nonzeros\n",
      "Variable types: 0 continuous, 105 integer (105 binary)\n",
      "Found heuristic solution: objective 104.5643574\n",
      "\n",
      "Starting sifting (using dual simplex for sub-problems)...\n",
      "\n",
      "    Iter     Pivots    Primal Obj      Dual Obj        Time\n",
      "       0         72    -infinity      7.2550980e+01      4s\n",
      "       1        109   5.4745893e+01   6.3648436e+01      4s\n",
      "       2        164   5.5729176e+01   5.9172333e+01      4s\n",
      "\n",
      "Sifting complete\n",
      "\n",
      "\n",
      "Root relaxation: objective 5.580037e+01, 207 iterations, 0.60 seconds (1.01 work units)\n",
      "\n",
      "    Nodes    |    Current Node    |     Objective Bounds      |     Work\n",
      " Expl Unexpl |  Obj  Depth IntInf | Incumbent    BestBd   Gap | It/Node Time\n",
      "\n",
      "     0     0   55.80037    0   13  104.56436   55.80037  46.6%     -    3s\n",
      "     0     0   55.93555    0   12  104.56436   55.93555  46.5%     -    4s\n",
      "H    0     0                      95.1334962   55.93555  41.2%     -    4s\n",
      "     0     0   56.05606    0   14   95.13350   56.05606  41.1%     -    4s\n",
      "     0     0   56.12251    0   16   95.13350   56.12251  41.0%     -    5s\n",
      "H    0     0                      56.7023714   56.12251  1.02%     -    5s\n",
      "     0     0   56.14932    0   14   56.70237   56.14932  0.98%     -    5s\n",
      "     0     0   56.14932    0   13   56.70237   56.14932  0.98%     -    7s\n",
      "H    0     0                      56.1747926   56.14932  0.05%     -    7s\n",
      "\n",
      "Cutting planes:\n",
      "  Gomory: 20\n",
      "  Mod-K: 6\n",
      "\n",
      "Explored 1 nodes (280 simplex iterations) in 7.30 seconds (10.61 work units)\n",
      "Thread count was 8 (of 8 available processors)\n",
      "\n",
      "Solution count 5: 56.1748 56.7024 58.6966 ... 104.564\n",
      "\n",
      "Optimal solution found (tolerance 1.00e-04)\n",
      "Best objective 5.617479262439e+01, best bound 5.617479262439e+01, gap 0.0000%\n"
     ]
    }
   ],
   "source": [
    "m = gp.Model(\"ubereats\")\n",
    "\n",
    "# Keep track of full route\n",
    "x = m.addVars(V,V, vtype=gp.GRB.BINARY, name = \"x\")\n",
    "\n",
    "# Set objective function\n",
    "m.setObjective(gp.quicksum(x[i, j]*c[i][j]\n",
    "                for i in V for j in V), GRB.MINIMIZE)\n",
    "\n",
    "# Add Constraints:\n",
    "constraint1(n) # Return starting location after last location\n",
    "constraint2(V,E) # Visit each location only once\n",
    "constraint3(S,V,E) # Subtour elimination\n",
    "constraint4(S,V,E) # Pickups before deliveries \n",
    "\n",
    "\n",
    "# Optimize model\n",
    "m.optimize()"
   ]
  },
  {
   "cell_type": "markdown",
   "id": "63c8ed06-2177-4855-98d7-a045903c4bcd",
   "metadata": {},
   "source": [
    "### Results:"
   ]
  },
  {
   "cell_type": "code",
   "execution_count": 16,
   "id": "eefd0507-aee6-4df8-b662-8353562b7bee",
   "metadata": {},
   "outputs": [],
   "source": [
    "# Create Tour List\n",
    "def route(vals):\n",
    "    selected = gp.tuplelist((i, j) for i, j in vals.keys() if vals[i, j] > 0.5)\n",
    "    tour = []\n",
    "    target = 0 \n",
    "    j = 0\n",
    "    while j < len(selected):\n",
    "        for i in range(len(selected)):\n",
    "            if target in selected[i]:\n",
    "                i1 = selected[i][0]\n",
    "                i2 = selected[i][1]\n",
    "                if i1 not in tour:\n",
    "                    tour.append(i1)\n",
    "                    target = i1\n",
    "                elif i2 not in tour:\n",
    "                    tour.append(i2)\n",
    "                    target = i2\n",
    "                j+=1 \n",
    "\n",
    "    # Because the tour in a undirected graph, sometimes the above graph may return the loop in the other direction\n",
    "    # This loop corrects that if it happens\n",
    "    temp_tour = [0]\n",
    "    if tour[1] > n: # Checking if the loop is going backwards\n",
    "        for i in range(len(tour)-1): \n",
    "            j = tour[len(tour)-1-i]\n",
    "            temp_tour.append(j)\n",
    "    tour = temp_tour\n",
    "\n",
    "    # Get the location names instead of the numbers:\n",
    "    route = []\n",
    "    for i in range(len(tour)):\n",
    "        route.append(locations[tour[i]])\n",
    "    route.append(locations[tour[0]]) # Revist starting location\n",
    "    return(route)"
   ]
  },
  {
   "cell_type": "code",
   "execution_count": 17,
   "id": "c694e688-2aeb-4f0f-8ebe-17c51acd77dc",
   "metadata": {},
   "outputs": [
    {
     "name": "stdout",
     "output_type": "stream",
     "text": [
      "obj_func =  56.174792624389276\n",
      "x[0,4] = 1\n",
      "x[0,15] = 1\n",
      "x[1,2] = 1\n",
      "x[1,11] = 1\n",
      "x[2,6] = 1\n",
      "x[3,8] = 1\n",
      "x[3,13] = 1\n",
      "x[4,5] = 1\n",
      "x[5,6] = 1\n",
      "x[7,9] = 1\n",
      "x[7,11] = 1\n",
      "x[8,14] = 1\n",
      "x[9,12] = 1\n",
      "x[10,14] = 1\n",
      "x[10,15] = 1\n",
      "x[12,13] = 1\n"
     ]
    }
   ],
   "source": [
    "# Print Results\n",
    "# Objective Value\n",
    "print(\"obj_func = \", m.objVal)\n",
    "\n",
    "# Variables \n",
    "\n",
    "for v in m.getVars():\n",
    "    if v.x > 0.5:\n",
    "        print('%s = %g' % (v.varName, v.x))       "
   ]
  },
  {
   "cell_type": "code",
   "execution_count": 18,
   "id": "fd73596b-dfc6-405e-a148-491678596241",
   "metadata": {},
   "outputs": [],
   "source": [
    "# Create Tour List\n",
    "vals = m.getAttr('x', x)\n",
    "path = route(vals)"
   ]
  },
  {
   "cell_type": "code",
   "execution_count": 19,
   "id": "6acdad2c-e7cc-42c7-b295-16b873089edb",
   "metadata": {},
   "outputs": [
    {
     "name": "stdout",
     "output_type": "stream",
     "text": [
      "Optimal Route:\n",
      "['Dunkin Donuts', 'Pickup Sonic Drive-In', 'Pickup Tropical Smoothie Cafe', 'Pickup Starbucks', 'Pickup McDonalds', 'Pickup Capriottis Sandwich Shop', 'Deliver Sonic Drive-In', \"Pickup Moe's\", 'Deliver McDonalds', 'Deliver Tropical Smoothie Cafe', 'Deliver Starbucks', \"Pickup Carl's Jr.\", 'Deliver Capriottis Sandwich Shop', \"Deliver Moe's\", \"Deliver Carl's Jr.\", 'Subway', 'Dunkin Donuts']\n",
      "\n",
      "Distance: 56.17 miles\n",
      "\n",
      "Estimated Time: 4 hr 13 min\n",
      "\n",
      "Estimated Profit: $42.62\n"
     ]
    }
   ],
   "source": [
    "# Print Tour\n",
    "print(\"Optimal Route:\")\n",
    "print(path)\n",
    "\n",
    "# Print Distance\n",
    "print(\"\\nDistance: {} miles\".format(round(m.objVal,2)))\n",
    "\n",
    "# Print time\n",
    "time = (m.objVal + (4*n))/20 # Assume constant speed of 20 mph\n",
    "hours = math.floor(time) # Assume 2 minutes to go into store and 2 minutes to drop at door\n",
    "minutes= math.ceil((time - hours)*60)\n",
    "print(\"\\nEstimated Time: {} hr {} min\".format(hours,minutes))\n",
    "\n",
    "\n",
    "# Print payout\n",
    "profit = []\n",
    "for i in ubereats_json:\n",
    "    pay = float(ubereats_json[i]['profit'])\n",
    "    profit.append(pay)\n",
    "print(\"\\nEstimated Profit: ${}\".format(round(sum(profit),2)))"
   ]
  },
  {
   "cell_type": "markdown",
   "id": "2372eaa7-27c1-4b46-aae1-5bd3704f68d3",
   "metadata": {},
   "source": [
    "### Map:"
   ]
  },
  {
   "cell_type": "code",
   "execution_count": 20,
   "id": "230f8e85-f4f6-4060-b243-928922c84a93",
   "metadata": {},
   "outputs": [
    {
     "data": {
      "text/html": [
       "<div style=\"width:100%;\"><div style=\"position:relative;width:100%;height:0;padding-bottom:60%;\"><span style=\"color:#565656\">Make this Notebook Trusted to load map: File -> Trust Notebook</span><iframe srcdoc=\"&lt;!DOCTYPE html&gt;\n",
       "&lt;html&gt;\n",
       "&lt;head&gt;\n",
       "    \n",
       "    &lt;meta http-equiv=&quot;content-type&quot; content=&quot;text/html; charset=UTF-8&quot; /&gt;\n",
       "    \n",
       "        &lt;script&gt;\n",
       "            L_NO_TOUCH = false;\n",
       "            L_DISABLE_3D = false;\n",
       "        &lt;/script&gt;\n",
       "    \n",
       "    &lt;style&gt;html, body {width: 100%;height: 100%;margin: 0;padding: 0;}&lt;/style&gt;\n",
       "    &lt;style&gt;#map {position:absolute;top:0;bottom:0;right:0;left:0;}&lt;/style&gt;\n",
       "    &lt;script src=&quot;https://cdn.jsdelivr.net/npm/leaflet@1.6.0/dist/leaflet.js&quot;&gt;&lt;/script&gt;\n",
       "    &lt;script src=&quot;https://code.jquery.com/jquery-1.12.4.min.js&quot;&gt;&lt;/script&gt;\n",
       "    &lt;script src=&quot;https://maxcdn.bootstrapcdn.com/bootstrap/3.2.0/js/bootstrap.min.js&quot;&gt;&lt;/script&gt;\n",
       "    &lt;script src=&quot;https://cdnjs.cloudflare.com/ajax/libs/Leaflet.awesome-markers/2.0.2/leaflet.awesome-markers.js&quot;&gt;&lt;/script&gt;\n",
       "    &lt;link rel=&quot;stylesheet&quot; href=&quot;https://cdn.jsdelivr.net/npm/leaflet@1.6.0/dist/leaflet.css&quot;/&gt;\n",
       "    &lt;link rel=&quot;stylesheet&quot; href=&quot;https://maxcdn.bootstrapcdn.com/bootstrap/3.2.0/css/bootstrap.min.css&quot;/&gt;\n",
       "    &lt;link rel=&quot;stylesheet&quot; href=&quot;https://maxcdn.bootstrapcdn.com/bootstrap/3.2.0/css/bootstrap-theme.min.css&quot;/&gt;\n",
       "    &lt;link rel=&quot;stylesheet&quot; href=&quot;https://maxcdn.bootstrapcdn.com/font-awesome/4.6.3/css/font-awesome.min.css&quot;/&gt;\n",
       "    &lt;link rel=&quot;stylesheet&quot; href=&quot;https://cdnjs.cloudflare.com/ajax/libs/Leaflet.awesome-markers/2.0.2/leaflet.awesome-markers.css&quot;/&gt;\n",
       "    &lt;link rel=&quot;stylesheet&quot; href=&quot;https://cdn.jsdelivr.net/gh/python-visualization/folium/folium/templates/leaflet.awesome.rotate.min.css&quot;/&gt;\n",
       "    \n",
       "            &lt;meta name=&quot;viewport&quot; content=&quot;width=device-width,\n",
       "                initial-scale=1.0, maximum-scale=1.0, user-scalable=no&quot; /&gt;\n",
       "            &lt;style&gt;\n",
       "                #map_c72672bb8b82bae6e63a876cd83bed2b {\n",
       "                    position: relative;\n",
       "                    width: 100.0%;\n",
       "                    height: 100.0%;\n",
       "                    left: 0.0%;\n",
       "                    top: 0.0%;\n",
       "                }\n",
       "            &lt;/style&gt;\n",
       "        \n",
       "&lt;/head&gt;\n",
       "&lt;body&gt;\n",
       "    \n",
       "    \n",
       "            &lt;div class=&quot;folium-map&quot; id=&quot;map_c72672bb8b82bae6e63a876cd83bed2b&quot; &gt;&lt;/div&gt;\n",
       "        \n",
       "&lt;/body&gt;\n",
       "&lt;script&gt;\n",
       "    \n",
       "    \n",
       "            var map_c72672bb8b82bae6e63a876cd83bed2b = L.map(\n",
       "                &quot;map_c72672bb8b82bae6e63a876cd83bed2b&quot;,\n",
       "                {\n",
       "                    center: [36.0, -115.0],\n",
       "                    crs: L.CRS.EPSG3857,\n",
       "                    zoom: 10,\n",
       "                    zoomControl: true,\n",
       "                    preferCanvas: false,\n",
       "                }\n",
       "            );\n",
       "\n",
       "            \n",
       "\n",
       "        \n",
       "    \n",
       "            var tile_layer_c2178bb66901bc838c75d727235a2f2e = L.tileLayer(\n",
       "                &quot;https://{s}.tile.openstreetmap.org/{z}/{x}/{y}.png&quot;,\n",
       "                {&quot;attribution&quot;: &quot;Data by \\u0026copy; \\u003ca href=\\&quot;http://openstreetmap.org\\&quot;\\u003eOpenStreetMap\\u003c/a\\u003e, under \\u003ca href=\\&quot;http://www.openstreetmap.org/copyright\\&quot;\\u003eODbL\\u003c/a\\u003e.&quot;, &quot;detectRetina&quot;: false, &quot;maxNativeZoom&quot;: 18, &quot;maxZoom&quot;: 18, &quot;minZoom&quot;: 0, &quot;noWrap&quot;: false, &quot;opacity&quot;: 1, &quot;subdomains&quot;: &quot;abc&quot;, &quot;tms&quot;: false}\n",
       "            ).addTo(map_c72672bb8b82bae6e63a876cd83bed2b);\n",
       "        \n",
       "    \n",
       "            var poly_line_bb61655040d673ba12a4c2244a8cae87 = L.polyline(\n",
       "                [[36.238709, -115.224533], [36.218698, -115.257], [36.218498, -115.262146], [36.219694, -115.275123], [36.218847, -115.281337], [36.221447, -115.330606], [36.29699113, -115.2451749], [36.298076, -115.149509], [36.31077369, -115.1096181], [36.2573111, -115.1457295], [36.26529977, -115.1667498], [36.172646, -115.244888], [36.14743895, -115.2580763], [36.11488425, -115.1905343], [36.13926537, -115.1279541], [36.263008, -115.214233], [36.238709, -115.224533], [36.238709, -115.224533]],\n",
       "                {&quot;bubblingMouseEvents&quot;: true, &quot;color&quot;: &quot;#3388ff&quot;, &quot;dashArray&quot;: null, &quot;dashOffset&quot;: null, &quot;fill&quot;: false, &quot;fillColor&quot;: &quot;#3388ff&quot;, &quot;fillOpacity&quot;: 0.2, &quot;fillRule&quot;: &quot;evenodd&quot;, &quot;lineCap&quot;: &quot;round&quot;, &quot;lineJoin&quot;: &quot;round&quot;, &quot;noClip&quot;: false, &quot;opacity&quot;: 1.0, &quot;smoothFactor&quot;: 1.0, &quot;stroke&quot;: true, &quot;weight&quot;: 3}\n",
       "            ).addTo(map_c72672bb8b82bae6e63a876cd83bed2b);\n",
       "        \n",
       "&lt;/script&gt;\n",
       "&lt;/html&gt;\" style=\"position:absolute;width:100%;height:100%;left:0;top:0;border:none !important;\" allowfullscreen webkitallowfullscreen mozallowfullscreen></iframe></div></div>"
      ],
      "text/plain": [
       "<folium.folium.Map at 0x7ff6e25c6190>"
      ]
     },
     "execution_count": 20,
     "metadata": {},
     "output_type": "execute_result"
    }
   ],
   "source": [
    "# Map Tour \n",
    "map = folium.Map(location=[36,-115], zoom_start = 10)\n",
    "\n",
    "points = []\n",
    "for stop in path:\n",
    "    points.append(coordinates[stop])\n",
    "points.append(points[0])\n",
    "\n",
    "folium.PolyLine(points).add_to(map)\n",
    "\n",
    "map"
   ]
  },
  {
   "cell_type": "markdown",
   "id": "cb2ccb32-0c00-40fb-8961-495b6afbb8fd",
   "metadata": {},
   "source": [
    "# Part II: Ohio State UberEats Optimizer\n",
    "After learning how to optimize UberEats routes, we wanted to start delivering around Ohio State's campus before class. Our starting location will be Arps garage (where car is parked) and the end location will be Scott Lab E024 where ISE 3230 meets. "
   ]
  },
  {
   "cell_type": "markdown",
   "id": "47cdadd3-2106-4bb5-8176-b40dafbc786f",
   "metadata": {},
   "source": [
    "### How many orders do you want to take? : "
   ]
  },
  {
   "cell_type": "code",
   "execution_count": 21,
   "id": "10787ba8-ad47-46f4-ab9d-9a0b15d87c53",
   "metadata": {},
   "outputs": [],
   "source": [
    "## After Entering Number, restart kernel or run collapsed cells below\n",
    "## Min = 2, Max: 7 \n",
    "n = 3"
   ]
  },
  {
   "cell_type": "code",
   "execution_count": 22,
   "id": "d26b140f-7fb0-4759-8440-90112c7bad5b",
   "metadata": {
    "jupyter": {
     "source_hidden": true
    },
    "tags": []
   },
   "outputs": [
    {
     "name": "stdout",
     "output_type": "stream",
     "text": [
      "Searching for Orders...\n"
     ]
    }
   ],
   "source": [
    "## This program uses most of the features of the program above, but will randomly select n orders and n drop offs from 15 resturants and 15 \n",
    "# drop off locations and optimize the route for shortest time\n",
    "print(\"Searching for Orders...\")\n",
    "\n",
    "# Read location names and coordinates from json file\n",
    "ubereats_columbus = json.load(open('UberEats Columbus.json'))\n",
    "\n",
    "# Randomly select orders and drop offs\n",
    "Orders = []\n",
    "Dropoffs = []\n",
    "Orders = random.sample(range(1, 16), n)\n",
    "Dropoffs = random.sample(range(16,31),n)\n",
    "\n",
    "# Create set of pickups and deliveries \n",
    "Orders_Selected = [0] + Orders + Dropoffs + [31]\n",
    "Orders_Selected.sort()\n",
    "\n",
    "\n",
    "# Create a list of locations\n",
    "locations = findLocations(ubereats_columbus)\n",
    "# Create a list of coordinates \n",
    "coordinates = findCoord(ubereats_columbus)\n",
    "\n",
    "\n",
    "# Create list of profits\n",
    "profit = []\n",
    "for i in ubereats_columbus:\n",
    "    pay = float(ubereats_columbus[i]['profit'])\n",
    "    profit.append(pay)\n",
    "\n",
    "\n",
    "# Filter Lists for randomly selected deliveries\n",
    "# Locations & Profit of selected pickups/dropoffs\n",
    "L = locations.copy()\n",
    "P = profit.copy()\n",
    "for l in range(len(L)):\n",
    "    location = L[l]\n",
    "    pay = P[l]\n",
    "    if not l in Orders_Selected:\n",
    "        locations.remove(location)\n",
    "        profit.remove(pay)\n",
    "        \n",
    "# Coordinates of selected pickups/dropoffs\n",
    "counter = 0\n",
    "for key in ubereats_columbus:\n",
    "    obj = ubereats_columbus[key]\n",
    "    if counter not in Orders_Selected:\n",
    "        coordinates.pop(obj['name'])\n",
    "    counter = counter + 1"
   ]
  },
  {
   "cell_type": "code",
   "execution_count": 23,
   "id": "07ae3e9a-f0b5-4120-8d86-98a25e0f0b93",
   "metadata": {
    "jupyter": {
     "source_hidden": true
    },
    "tags": []
   },
   "outputs": [
    {
     "name": "stdout",
     "output_type": "stream",
     "text": [
      "Orders Available:\n",
      "  Devliver Forno to Ohio Stadium\n",
      "  Devliver Raising Cane's to The Blackwell\n",
      "  Devliver Oxley's by the Numbers to OSU Wexner Medical Center\n"
     ]
    }
   ],
   "source": [
    "### Model Inputs ####\n",
    "P = createPickups(n) # Indexes for pickups\n",
    "D = createDropoffs(n)# Indexes for dropoffs\n",
    "# Combine pickups and drop offs with first and last location\n",
    "V = [0] + P + D + [2*n+1]\n",
    "\n",
    "# All subsets in V\n",
    "S = list(powerset(V))\n",
    "\n",
    "# All possible Edges\n",
    "E = edges(V,P)\n",
    "\n",
    "# Distance Matrix\n",
    "c = distMatrix(locations)\n",
    "\n",
    "print(\"Orders Available:\")\n",
    "for i in range(1,n+1):\n",
    "    print(\"  Devliver {} to {}\".format(locations[i], locations[i+n]))"
   ]
  },
  {
   "cell_type": "code",
   "execution_count": 24,
   "id": "8810bfa0-1867-4b72-bee7-f459832b6d9c",
   "metadata": {
    "jupyter": {
     "source_hidden": true
    },
    "tags": []
   },
   "outputs": [
    {
     "name": "stdout",
     "output_type": "stream",
     "text": [
      "Calculating Optimal Route...\n",
      "\n",
      "Optimal Route: \n",
      "  Start: Arps Garage\n",
      "  Oxley's by the Numbers\n",
      "  Raising Cane's\n",
      "  Forno\n",
      "  OSU Wexner Medical Center\n",
      "  Ohio Stadium\n",
      "  The Blackwell\n",
      "  End: Scott Lab E024\n"
     ]
    }
   ],
   "source": [
    "print(\"Calculating Optimal Route...\")\n",
    "\n",
    "# Run optimization model\n",
    "# Stop model output from printing\n",
    "env = gp.Env(empty=True)\n",
    "env.setParam(\"OutputFlag\",0)\n",
    "env.start()\n",
    "m = gp.Model(\"ubereats_cbus\", env=env)\n",
    "\n",
    "# Keep track of full route\n",
    "x = m.addVars(V,V, vtype=gp.GRB.BINARY, name = \"x\")\n",
    "\n",
    "# Set objective function\n",
    "m.setObjective(gp.quicksum(x[i, j]*c[i][j]\n",
    "                for i in V for j in V), GRB.MINIMIZE)\n",
    "\n",
    "# Add Constraints:\n",
    "constraint1(n) # Return starting location after last location\n",
    "constraint2(V,E) # Visit each location only once\n",
    "constraint3(S,V,E) # Subtour elimination\n",
    "constraint4(S,V,E) # Pickups before deliveries \n",
    "\n",
    "# Optimize model\n",
    "m.optimize()\n",
    "\n",
    "# Create Optimal Route \n",
    "vals = m.getAttr('x', x)\n",
    "path = route(vals)\n",
    "print(\"\\nOptimal Route: \")\n",
    "for j in range(len(path)-1):\n",
    "    print(\"  \" +path[j])"
   ]
  },
  {
   "cell_type": "code",
   "execution_count": 25,
   "id": "92fbef26-b9b6-4b04-8dd1-59b8f806156c",
   "metadata": {
    "jupyter": {
     "source_hidden": true
    },
    "tags": []
   },
   "outputs": [
    {
     "name": "stdout",
     "output_type": "stream",
     "text": [
      "Calculating Payout...\n",
      "Estimated Profit: $19.61\n"
     ]
    }
   ],
   "source": [
    "print(\"Calculating Payout...\")\n",
    "print(\"Estimated Profit: ${}\".format(round(sum(profit),2)))"
   ]
  },
  {
   "cell_type": "code",
   "execution_count": 26,
   "id": "d2cc3ba1-3bd8-41e4-b7b7-20fea6ddc657",
   "metadata": {
    "jupyter": {
     "source_hidden": true
    },
    "tags": []
   },
   "outputs": [
    {
     "name": "stdout",
     "output_type": "stream",
     "text": [
      "Calculating distance...\n",
      "Distance: 4.93 miles\n",
      "\n",
      "Calculating time...\n",
      "Estimated Time: 0 hr 51 min\n"
     ]
    }
   ],
   "source": [
    "# Enhance interface \n",
    "print(\"Calculating distance...\")\n",
    "print(\"Distance: {} miles\".format(round(m.objVal,2)))\n",
    "\n",
    "# Time to order assuming 20 mph speed plus 2 minutes to pickup and drop off orders\n",
    "print(\"\\nCalculating time...\")\n",
    "time = (m.objVal + (4*n))/20 # Assume constant speed of 20 mph\n",
    "hours = math.floor(time) # Assume 2 minutes to go into store and 2 minutes to drop at door\n",
    "mins= math.ceil((time - hours)*60)\n",
    "print(\"Estimated Time: {} hr {} min\".format(hours,mins))"
   ]
  },
  {
   "cell_type": "code",
   "execution_count": 28,
   "id": "db7223fb-66c2-4c81-84c9-3d33b6fbbc94",
   "metadata": {
    "jupyter": {
     "source_hidden": true
    },
    "tags": []
   },
   "outputs": [
    {
     "name": "stdout",
     "output_type": "stream",
     "text": [
      "Generating Map...\n"
     ]
    },
    {
     "data": {
      "text/html": [
       "<div style=\"width:100%;\"><div style=\"position:relative;width:100%;height:0;padding-bottom:60%;\"><span style=\"color:#565656\">Make this Notebook Trusted to load map: File -> Trust Notebook</span><iframe srcdoc=\"&lt;!DOCTYPE html&gt;\n",
       "&lt;html&gt;\n",
       "&lt;head&gt;\n",
       "    \n",
       "    &lt;meta http-equiv=&quot;content-type&quot; content=&quot;text/html; charset=UTF-8&quot; /&gt;\n",
       "    \n",
       "        &lt;script&gt;\n",
       "            L_NO_TOUCH = false;\n",
       "            L_DISABLE_3D = false;\n",
       "        &lt;/script&gt;\n",
       "    \n",
       "    &lt;style&gt;html, body {width: 100%;height: 100%;margin: 0;padding: 0;}&lt;/style&gt;\n",
       "    &lt;style&gt;#map {position:absolute;top:0;bottom:0;right:0;left:0;}&lt;/style&gt;\n",
       "    &lt;script src=&quot;https://cdn.jsdelivr.net/npm/leaflet@1.6.0/dist/leaflet.js&quot;&gt;&lt;/script&gt;\n",
       "    &lt;script src=&quot;https://code.jquery.com/jquery-1.12.4.min.js&quot;&gt;&lt;/script&gt;\n",
       "    &lt;script src=&quot;https://maxcdn.bootstrapcdn.com/bootstrap/3.2.0/js/bootstrap.min.js&quot;&gt;&lt;/script&gt;\n",
       "    &lt;script src=&quot;https://cdnjs.cloudflare.com/ajax/libs/Leaflet.awesome-markers/2.0.2/leaflet.awesome-markers.js&quot;&gt;&lt;/script&gt;\n",
       "    &lt;link rel=&quot;stylesheet&quot; href=&quot;https://cdn.jsdelivr.net/npm/leaflet@1.6.0/dist/leaflet.css&quot;/&gt;\n",
       "    &lt;link rel=&quot;stylesheet&quot; href=&quot;https://maxcdn.bootstrapcdn.com/bootstrap/3.2.0/css/bootstrap.min.css&quot;/&gt;\n",
       "    &lt;link rel=&quot;stylesheet&quot; href=&quot;https://maxcdn.bootstrapcdn.com/bootstrap/3.2.0/css/bootstrap-theme.min.css&quot;/&gt;\n",
       "    &lt;link rel=&quot;stylesheet&quot; href=&quot;https://maxcdn.bootstrapcdn.com/font-awesome/4.6.3/css/font-awesome.min.css&quot;/&gt;\n",
       "    &lt;link rel=&quot;stylesheet&quot; href=&quot;https://cdnjs.cloudflare.com/ajax/libs/Leaflet.awesome-markers/2.0.2/leaflet.awesome-markers.css&quot;/&gt;\n",
       "    &lt;link rel=&quot;stylesheet&quot; href=&quot;https://cdn.jsdelivr.net/gh/python-visualization/folium/folium/templates/leaflet.awesome.rotate.min.css&quot;/&gt;\n",
       "    \n",
       "            &lt;meta name=&quot;viewport&quot; content=&quot;width=device-width,\n",
       "                initial-scale=1.0, maximum-scale=1.0, user-scalable=no&quot; /&gt;\n",
       "            &lt;style&gt;\n",
       "                #map_e1c1bfc4d156e9c1edf44b2bc19a4ea9 {\n",
       "                    position: relative;\n",
       "                    width: 100.0%;\n",
       "                    height: 100.0%;\n",
       "                    left: 0.0%;\n",
       "                    top: 0.0%;\n",
       "                }\n",
       "            &lt;/style&gt;\n",
       "        \n",
       "&lt;/head&gt;\n",
       "&lt;body&gt;\n",
       "    \n",
       "    \n",
       "            &lt;div class=&quot;folium-map&quot; id=&quot;map_e1c1bfc4d156e9c1edf44b2bc19a4ea9&quot; &gt;&lt;/div&gt;\n",
       "        \n",
       "&lt;/body&gt;\n",
       "&lt;script&gt;\n",
       "    \n",
       "    \n",
       "            var map_e1c1bfc4d156e9c1edf44b2bc19a4ea9 = L.map(\n",
       "                &quot;map_e1c1bfc4d156e9c1edf44b2bc19a4ea9&quot;,\n",
       "                {\n",
       "                    center: [40.0, -83.0],\n",
       "                    crs: L.CRS.EPSG3857,\n",
       "                    zoom: 13.3,\n",
       "                    zoomControl: true,\n",
       "                    preferCanvas: false,\n",
       "                }\n",
       "            );\n",
       "\n",
       "            \n",
       "\n",
       "        \n",
       "    \n",
       "            var tile_layer_2c466358866fa2d25ff801d9e3cfa04b = L.tileLayer(\n",
       "                &quot;https://{s}.tile.openstreetmap.org/{z}/{x}/{y}.png&quot;,\n",
       "                {&quot;attribution&quot;: &quot;Data by \\u0026copy; \\u003ca href=\\&quot;http://openstreetmap.org\\&quot;\\u003eOpenStreetMap\\u003c/a\\u003e, under \\u003ca href=\\&quot;http://www.openstreetmap.org/copyright\\&quot;\\u003eODbL\\u003c/a\\u003e.&quot;, &quot;detectRetina&quot;: false, &quot;maxNativeZoom&quot;: 18, &quot;maxZoom&quot;: 18, &quot;minZoom&quot;: 0, &quot;noWrap&quot;: false, &quot;opacity&quot;: 1, &quot;subdomains&quot;: &quot;abc&quot;, &quot;tms&quot;: false}\n",
       "            ).addTo(map_e1c1bfc4d156e9c1edf44b2bc19a4ea9);\n",
       "        \n",
       "    \n",
       "            var poly_line_c8c775b0b85921c109424dcd72e2bfd0 = L.polyline(\n",
       "                [[40.002296, -83.009892], [40.002244, -83.016319], [39.994959, -83.007035], [39.977015, -83.00354], [39.996172, -83.017876], [40.002937, -83.018941], [40.004836, -83.016994], [40.0022333, -83.01464], [40.002296, -83.009892], [40.002296, -83.009892]],\n",
       "                {&quot;bubblingMouseEvents&quot;: true, &quot;color&quot;: &quot;#3388ff&quot;, &quot;dashArray&quot;: null, &quot;dashOffset&quot;: null, &quot;fill&quot;: false, &quot;fillColor&quot;: &quot;#3388ff&quot;, &quot;fillOpacity&quot;: 0.2, &quot;fillRule&quot;: &quot;evenodd&quot;, &quot;lineCap&quot;: &quot;round&quot;, &quot;lineJoin&quot;: &quot;round&quot;, &quot;noClip&quot;: false, &quot;opacity&quot;: 1.0, &quot;smoothFactor&quot;: 1.0, &quot;stroke&quot;: true, &quot;weight&quot;: 3}\n",
       "            ).addTo(map_e1c1bfc4d156e9c1edf44b2bc19a4ea9);\n",
       "        \n",
       "&lt;/script&gt;\n",
       "&lt;/html&gt;\" style=\"position:absolute;width:100%;height:100%;left:0;top:0;border:none !important;\" allowfullscreen webkitallowfullscreen mozallowfullscreen></iframe></div></div>"
      ],
      "text/plain": [
       "<folium.folium.Map at 0x7ff6e25c69d0>"
      ]
     },
     "execution_count": 28,
     "metadata": {},
     "output_type": "execute_result"
    }
   ],
   "source": [
    "print(\"Generating Map...\")\n",
    "\n",
    "# Map Tour \n",
    "map = folium.Map(location=[40,-83], zoom_start = 13.3)\n",
    "\n",
    "points = []\n",
    "for stop in path:\n",
    "    points.append(coordinates[stop])\n",
    "points.append(points[0])\n",
    "\n",
    "folium.PolyLine(points).add_to(map)\n",
    "\n",
    "map"
   ]
  },
  {
   "cell_type": "code",
   "execution_count": null,
   "id": "52a90b1d-099f-4aac-94bf-0486d20bd356",
   "metadata": {},
   "outputs": [],
   "source": []
  }
 ],
 "metadata": {
  "kernelspec": {
   "display_name": "Python 3 (ipykernel)",
   "language": "python",
   "name": "python3"
  },
  "language_info": {
   "codemirror_mode": {
    "name": "ipython",
    "version": 3
   },
   "file_extension": ".py",
   "mimetype": "text/x-python",
   "name": "python",
   "nbconvert_exporter": "python",
   "pygments_lexer": "ipython3",
   "version": "3.9.12"
  }
 },
 "nbformat": 4,
 "nbformat_minor": 5
}
